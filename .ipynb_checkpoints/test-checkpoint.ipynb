{
 "cells": [
  {
   "cell_type": "code",
   "execution_count": 18,
   "id": "272da434-19c4-47e7-baea-2cb55b71b6a7",
   "metadata": {},
   "outputs": [],
   "source": [
    "import math\n",
    "beta1 = lambda p,a,b: math.gamma(a+b)/(math.gamma(a)*math.gamma(b)) * p**(a-1) * (1-p)**(b-1)"
   ]
  },
  {
   "cell_type": "code",
   "execution_count": 19,
   "id": "040a79dd-c2eb-47f5-a0dc-c6ea620cc948",
   "metadata": {},
   "outputs": [
    {
     "data": {
      "text/plain": [
       "2.0579999999999994"
      ]
     },
     "execution_count": 19,
     "metadata": {},
     "output_type": "execute_result"
    }
   ],
   "source": [
    "beta1(0.3, 2,4)"
   ]
  },
  {
   "cell_type": "code",
   "execution_count": 26,
   "id": "d36a75f1-ad0c-4edf-bbbc-5b5338f771c5",
   "metadata": {},
   "outputs": [],
   "source": [
    "from scipy.stats import binom, beta"
   ]
  },
  {
   "cell_type": "code",
   "execution_count": 27,
   "id": "00dc5716-a866-42d2-bc0e-1455e9f39021",
   "metadata": {},
   "outputs": [
    {
     "data": {
      "text/plain": [
       "2.0580000000000003"
      ]
     },
     "execution_count": 27,
     "metadata": {},
     "output_type": "execute_result"
    }
   ],
   "source": [
    "beta.pdf(0.3,2,4) # p,k,n"
   ]
  },
  {
   "cell_type": "code",
   "execution_count": 28,
   "id": "bcea10c0-fc8c-4150-9da9-a571699fe23d",
   "metadata": {},
   "outputs": [],
   "source": [
    "binom1 = lambda p,k,n: math.comb(n,k) * p**k * (1-p)**(n-k)"
   ]
  },
  {
   "cell_type": "code",
   "execution_count": 29,
   "id": "af9f431b-3095-4946-9f35-0c01a57cc27c",
   "metadata": {},
   "outputs": [
    {
     "data": {
      "text/plain": [
       "0.18521999999999994"
      ]
     },
     "execution_count": 29,
     "metadata": {},
     "output_type": "execute_result"
    }
   ],
   "source": [
    "binom1(0.3,3,6)"
   ]
  },
  {
   "cell_type": "code",
   "execution_count": 32,
   "id": "d6bc8aba-e396-4d41-ad12-4bc4826f7435",
   "metadata": {},
   "outputs": [
    {
     "data": {
      "text/plain": [
       "0.1852199999999999"
      ]
     },
     "execution_count": 32,
     "metadata": {},
     "output_type": "execute_result"
    }
   ],
   "source": [
    "binom.pmf(3,6,0.3) # k,n,p"
   ]
  },
  {
   "cell_type": "code",
   "execution_count": 33,
   "id": "2395d72d-babe-4b90-baeb-7758a9fee90e",
   "metadata": {},
   "outputs": [
    {
     "data": {
      "text/plain": [
       "array([0.36015  , 0.324135 , 0.2268945, 0.1361367])"
      ]
     },
     "execution_count": 33,
     "metadata": {},
     "output_type": "execute_result"
    }
   ],
   "source": [
    "import numpy as np\n",
    "ks = np.array([1,2,3,4])\n",
    "ns = np.array([5,6,7,8])\n",
    "binom.pmf(ks,ns,0.3)"
   ]
  },
  {
   "cell_type": "code",
   "execution_count": 3,
   "id": "ca35b843-576d-4c90-b58e-277f9273be6e",
   "metadata": {},
   "outputs": [
    {
     "ename": "ModuleNotFoundError",
     "evalue": "No module named 'pecos'",
     "output_type": "error",
     "traceback": [
      "\u001b[0;31m---------------------------------------------------------------------------\u001b[0m",
      "\u001b[0;31mModuleNotFoundError\u001b[0m                       Traceback (most recent call last)",
      "Input \u001b[0;32mIn [3]\u001b[0m, in \u001b[0;36m<cell line: 2>\u001b[0;34m()\u001b[0m\n\u001b[1;32m      1\u001b[0m \u001b[38;5;28;01mimport\u001b[39;00m \u001b[38;5;21;01mcircuit_tools\u001b[39;00m \u001b[38;5;28;01mas\u001b[39;00m \u001b[38;5;21;01mct\u001b[39;00m\n\u001b[0;32m----> 2\u001b[0m \u001b[38;5;28;01mimport\u001b[39;00m \u001b[38;5;21;01mpecos\u001b[39;00m \u001b[38;5;28;01mas\u001b[39;00m \u001b[38;5;21;01mpc\u001b[39;00m\n",
      "\u001b[0;31mModuleNotFoundError\u001b[0m: No module named 'pecos'"
     ]
    }
   ],
   "source": [
    "import circuit_tools as ct\n",
    "import pecos as pc"
   ]
  },
  {
   "cell_type": "code",
   "execution_count": null,
   "id": "6f3f63cd-e966-4ad8-b35f-0c249a124dd5",
   "metadata": {},
   "outputs": [],
   "source": []
  }
 ],
 "metadata": {
  "kernelspec": {
   "display_name": "Python 3 (ipykernel)",
   "language": "python",
   "name": "python3"
  },
  "language_info": {
   "codemirror_mode": {
    "name": "ipython",
    "version": 3
   },
   "file_extension": ".py",
   "mimetype": "text/x-python",
   "name": "python",
   "nbconvert_exporter": "python",
   "pygments_lexer": "ipython3",
   "version": "3.10.4"
  }
 },
 "nbformat": 4,
 "nbformat_minor": 5
}
