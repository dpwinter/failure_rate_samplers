{
 "cells": [
  {
   "cell_type": "code",
   "execution_count": 18,
   "id": "272da434-19c4-47e7-baea-2cb55b71b6a7",
   "metadata": {},
   "outputs": [],
   "source": [
    "import math\n",
    "beta1 = lambda p,a,b: math.gamma(a+b)/(math.gamma(a)*math.gamma(b)) * p**(a-1) * (1-p)**(b-1)"
   ]
  },
  {
   "cell_type": "code",
   "execution_count": 19,
   "id": "040a79dd-c2eb-47f5-a0dc-c6ea620cc948",
   "metadata": {},
   "outputs": [
    {
     "data": {
      "text/plain": [
       "2.0579999999999994"
      ]
     },
     "execution_count": 19,
     "metadata": {},
     "output_type": "execute_result"
    }
   ],
   "source": [
    "beta1(0.3, 2,4)"
   ]
  },
  {
   "cell_type": "code",
   "execution_count": 26,
   "id": "d36a75f1-ad0c-4edf-bbbc-5b5338f771c5",
   "metadata": {},
   "outputs": [],
   "source": [
    "from scipy.stats import binom, beta"
   ]
  },
  {
   "cell_type": "code",
   "execution_count": 27,
   "id": "00dc5716-a866-42d2-bc0e-1455e9f39021",
   "metadata": {},
   "outputs": [
    {
     "data": {
      "text/plain": [
       "2.0580000000000003"
      ]
     },
     "execution_count": 27,
     "metadata": {},
     "output_type": "execute_result"
    }
   ],
   "source": [
    "beta.pdf(0.3,2,4) # p,k,n"
   ]
  },
  {
   "cell_type": "code",
   "execution_count": 28,
   "id": "bcea10c0-fc8c-4150-9da9-a571699fe23d",
   "metadata": {},
   "outputs": [],
   "source": [
    "binom1 = lambda p,k,n: math.comb(n,k) * p**k * (1-p)**(n-k)"
   ]
  },
  {
   "cell_type": "code",
   "execution_count": 29,
   "id": "af9f431b-3095-4946-9f35-0c01a57cc27c",
   "metadata": {},
   "outputs": [
    {
     "data": {
      "text/plain": [
       "0.18521999999999994"
      ]
     },
     "execution_count": 29,
     "metadata": {},
     "output_type": "execute_result"
    }
   ],
   "source": [
    "binom1(0.3,3,6)"
   ]
  },
  {
   "cell_type": "code",
   "execution_count": 32,
   "id": "d6bc8aba-e396-4d41-ad12-4bc4826f7435",
   "metadata": {},
   "outputs": [
    {
     "data": {
      "text/plain": [
       "0.1852199999999999"
      ]
     },
     "execution_count": 32,
     "metadata": {},
     "output_type": "execute_result"
    }
   ],
   "source": [
    "binom.pmf(3,6,0.3) # k,n,p"
   ]
  },
  {
   "cell_type": "code",
   "execution_count": 7,
   "id": "2395d72d-babe-4b90-baeb-7758a9fee90e",
   "metadata": {},
   "outputs": [
    {
     "ename": "NameError",
     "evalue": "name 'binom' is not defined",
     "output_type": "error",
     "traceback": [
      "\u001b[0;31m---------------------------------------------------------------------------\u001b[0m",
      "\u001b[0;31mNameError\u001b[0m                                 Traceback (most recent call last)",
      "Input \u001b[0;32mIn [7]\u001b[0m, in \u001b[0;36m<cell line: 4>\u001b[0;34m()\u001b[0m\n\u001b[1;32m      2\u001b[0m ks \u001b[38;5;241m=\u001b[39m np\u001b[38;5;241m.\u001b[39marray([\u001b[38;5;241m1\u001b[39m,\u001b[38;5;241m2\u001b[39m,\u001b[38;5;241m3\u001b[39m,\u001b[38;5;241m4\u001b[39m])\n\u001b[1;32m      3\u001b[0m ns \u001b[38;5;241m=\u001b[39m np\u001b[38;5;241m.\u001b[39marray([\u001b[38;5;241m5\u001b[39m,\u001b[38;5;241m6\u001b[39m,\u001b[38;5;241m7\u001b[39m,\u001b[38;5;241m8\u001b[39m])\n\u001b[0;32m----> 4\u001b[0m \u001b[43mbinom\u001b[49m\u001b[38;5;241m.\u001b[39mpmf(ks,ns,\u001b[38;5;241m0.3\u001b[39m)\n",
      "\u001b[0;31mNameError\u001b[0m: name 'binom' is not defined"
     ]
    }
   ],
   "source": [
    "import numpy as np\n",
    "ks = np.array([1,2,3,4])\n",
    "ns = np.array([5,6,7,8])\n",
    "binom.pmf(ks,ns,0.3)"
   ]
  },
  {
   "cell_type": "code",
   "execution_count": 5,
   "id": "ca35b843-576d-4c90-b58e-277f9273be6e",
   "metadata": {},
   "outputs": [
    {
     "ename": "ModuleNotFoundError",
     "evalue": "No module named 'circuit_tools'",
     "output_type": "error",
     "traceback": [
      "\u001b[0;31m---------------------------------------------------------------------------\u001b[0m",
      "\u001b[0;31mModuleNotFoundError\u001b[0m                       Traceback (most recent call last)",
      "Input \u001b[0;32mIn [5]\u001b[0m, in \u001b[0;36m<cell line: 1>\u001b[0;34m()\u001b[0m\n\u001b[0;32m----> 1\u001b[0m \u001b[38;5;28;01mimport\u001b[39;00m \u001b[38;5;21;01mcircuit_tools\u001b[39;00m \u001b[38;5;28;01mas\u001b[39;00m \u001b[38;5;21;01mct\u001b[39;00m\n\u001b[1;32m      2\u001b[0m \u001b[38;5;28;01mimport\u001b[39;00m \u001b[38;5;21;01mpecos\u001b[39;00m \u001b[38;5;28;01mas\u001b[39;00m \u001b[38;5;21;01mpc\u001b[39;00m\n",
      "\u001b[0;31mModuleNotFoundError\u001b[0m: No module named 'circuit_tools'"
     ]
    }
   ],
   "source": []
  },
  {
   "cell_type": "code",
   "execution_count": 2,
   "id": "6f3f63cd-e966-4ad8-b35f-0c249a124dd5",
   "metadata": {},
   "outputs": [],
   "source": [
    "import pecos as pc\n",
    "ghz = pc.circuits.QuantumCircuit()\n",
    "ghz.append('H', {0})\n",
    "ghz.append('CNOT', {(0,1)})\n",
    "ghz.append('CNOT', {(1,2)})\n",
    "ghz.append('CNOT', {(2,3)})\n",
    "ghz.append('CNOT', {(3,4)})\n",
    "ghz.append('CNOT', {(0,4)})\n",
    "ghz.append('measure Z', {4})"
   ]
  },
  {
   "cell_type": "code",
   "execution_count": 5,
   "id": "bcecb672-6963-49f8-b577-f85c879a2b91",
   "metadata": {},
   "outputs": [
    {
     "data": {
      "text/plain": [
       "[[(0, 0)], [(1, (0, 1)), (2, (1, 2)), (3, (2, 3)), (4, (3, 4)), (5, (0, 4))]]"
      ]
     },
     "execution_count": 5,
     "metadata": {},
     "output_type": "execute_result"
    }
   ],
   "source": [
    "ct.partition_circuit(ghz, ['p1','p2'])"
   ]
  },
  {
   "cell_type": "code",
   "execution_count": 20,
   "id": "033228ae-c0e4-47e1-8fcb-8ac128a328cd",
   "metadata": {},
   "outputs": [
    {
     "data": {
      "text/plain": [
       "array([[1.00000000e-03, 5.00000000e-04],\n",
       "       [2.15443469e-03, 1.07721735e-03],\n",
       "       [4.64158883e-03, 2.32079442e-03],\n",
       "       [1.00000000e-02, 5.00000000e-03],\n",
       "       [2.15443469e-02, 1.07721735e-02],\n",
       "       [4.64158883e-02, 2.32079442e-02],\n",
       "       [1.00000000e-01, 5.00000000e-02],\n",
       "       [2.15443469e-01, 1.07721735e-01],\n",
       "       [4.64158883e-01, 2.32079442e-01],\n",
       "       [1.00000000e+00, 5.00000000e-01]])"
      ]
     },
     "execution_count": 20,
     "metadata": {},
     "output_type": "execute_result"
    }
   ],
   "source": [
    "p1 = np.logspace(-3,0,10)\n",
    "p2 = p1 * 0.5\n",
    "\n",
    "# print(p1.T,p2.T)\n",
    "# np.vstack((p1,p2)).T # always need to specify ranges for p1,p2,..\n",
    "\n",
    "a = {'p1':p1, 'p2':p2}\n",
    "np.vstack(list(a.values())).T"
   ]
  },
  {
   "cell_type": "code",
   "execution_count": 1,
   "id": "f8057621-9ded-4666-9331-29f11a15b65a",
   "metadata": {},
   "outputs": [],
   "source": [
    "import sampler\n",
    "import numpy as np\n",
    "import pecos as pc\n",
    "import matplotlib.pyplot as plt"
   ]
  },
  {
   "cell_type": "code",
   "execution_count": 2,
   "id": "a41707bd-9720-46f3-8762-541214afd186",
   "metadata": {},
   "outputs": [],
   "source": [
    "ghz = []\n",
    "ghz.append(('h', 0))\n",
    "ghz.append(('cnot', (0,1)))\n",
    "ghz.append(('cnot', (1,2)))\n",
    "ghz.append(('cnot', (2,3)))\n",
    "ghz.append(('cnot', (3,4)))\n",
    "ghz.append(('cnot', (0,4)))\n",
    "ghz.append(('measure', 4))"
   ]
  },
  {
   "cell_type": "code",
   "execution_count": 3,
   "id": "1f653b7b-0617-4dbe-9b01-27e2bb1cf1be",
   "metadata": {},
   "outputs": [],
   "source": [
    "ghz = pc.circuits.QuantumCircuit()\n",
    "ghz.append('H', {0})\n",
    "ghz.append('CNOT', {(0,1)})\n",
    "ghz.append('CNOT', {(1,2)})\n",
    "ghz.append('CNOT', {(2,3)})\n",
    "ghz.append('CNOT', {(3,4)})\n",
    "ghz.append('CNOT', {(0,4)})\n",
    "ghz.append('measure Z', {4})"
   ]
  },
  {
   "cell_type": "code",
   "execution_count": 3,
   "id": "70e3317f-c258-4f4f-be7a-38bc7d0bf8e2",
   "metadata": {},
   "outputs": [],
   "source": [
    "p1 = np.logspace(-3,0,10)\n",
    "p2 = p1 * 0.5\n",
    "err_params = {'p1':p1, 'p2':p2}\n",
    "ds = sampler.DirectSampler(ghz, err_params)"
   ]
  },
  {
   "cell_type": "code",
   "execution_count": 6,
   "id": "eb6f1703-0575-453a-9c11-43670bcb94c7",
   "metadata": {},
   "outputs": [
    {
     "data": {
      "image/png": "[encoded data removed]",
      "text/plain": [
       "<Figure size 432x288 with 1 Axes>"
      ]
     },
     "metadata": {
      "needs_background": "light"
     },
     "output_type": "display_data"
    },
    {
     "name": "stdout",
     "output_type": "stream",
     "text": [
      "CPU times: user 6.4 s, sys: 133 ms, total: 6.54 s\n",
      "Wall time: 6.26 s\n"
     ]
    }
   ],
   "source": [
    "%%time\n",
    "\n",
    "p_L, ds_std = ds.run(n_samples=5000)\n",
    "plt.errorbar(p1, p_L, fmt='--', c=\"black\", yerr=ds_std, label=\"Naive\")\n",
    "plt.plot(p1,p1, 'k:', alpha=0.5)\n",
    "plt.xscale('log')\n",
    "plt.yscale('log')\n",
    "plt.legend()\n",
    "plt.show()"
   ]
  },
  {
   "cell_type": "code",
   "execution_count": 9,
   "id": "86b79ab2-db15-4573-a884-295e38db5333",
   "metadata": {},
   "outputs": [
    {
     "name": "stderr",
     "output_type": "stream",
     "text": [
      "/home/dw/Desktop/HiWi/DSS/sampler.py:83: RuntimeWarning: invalid value encountered in true_divide\n",
      "  pws = (fail_cnts / cnts)[:,None]\n",
      "/home/dw/Desktop/HiWi/Circuit Sampling/env/lib/python3.10/site-packages/matplotlib/axes/_base.py:2480: UserWarning: Warning: converting a masked element to nan.\n",
      "  xys = np.asarray(xys)\n"
     ]
    },
    {
     "name": "stdout",
     "output_type": "stream",
     "text": [
      "[2 3 4 2 0 1 3 5] [(0, 0), (0, 1), (0, 2), (0, 3), (1, 0), (1, 1), (1, 2), (1, 3)]\n"
     ]
    },
    {
     "data": {
      "image/png": "[encoded data removed]",
      "text/plain": [
       "<Figure size 432x288 with 1 Axes>"
      ]
     },
     "metadata": {
      "needs_background": "light"
     },
     "output_type": "display_data"
    }
   ],
   "source": [
    "ss = sampler.SubsetSampler(ghz,err_params)\n",
    "p_L_low, p_L_up, ss_std = ss.run(p_max=[0.5,0.5], delta_max=[0.1,0.5], n_samples=20)\n",
    "plt.errorbar(p1, p_L_low, fmt='--', c=\"black\", yerr=ss_std)\n",
    "plt.errorbar(p1, p_L_up, fmt='--', c=\"red\", yerr=ss_std)\n",
    "\n",
    "plt.plot(p1,p1, 'k:', alpha=0.5)\n",
    "plt.xscale('log')\n",
    "plt.yscale('log')\n",
    "# plt.legend()\n",
    "plt.show()"
   ]
  },
  {
   "cell_type": "code",
   "execution_count": 5,
   "id": "e1a7e0ec-61b3-441d-aaed-c87868c2f533",
   "metadata": {},
   "outputs": [
    {
     "name": "stdout",
     "output_type": "stream",
     "text": [
      "3\n"
     ]
    },
    {
     "data": {
      "text/plain": [
       "list"
      ]
     },
     "execution_count": 5,
     "metadata": {},
     "output_type": "execute_result"
    }
   ],
   "source": [
    "def a(x, b=3, *args, **kwargs):\n",
    "    print(b)\n",
    "    return x\n",
    "\n",
    "a(4,k=2,i=2,j=45)\n",
    "\n",
    "type([('Y', 1), ('Z', 2)])"
   ]
  },
  {
   "cell_type": "code",
   "execution_count": 71,
   "id": "2d4adef0-0fc5-4f1b-8059-aefb2594b76a",
   "metadata": {},
   "outputs": [
    {
     "name": "stdout",
     "output_type": "stream",
     "text": [
      "0\n",
      "0\n",
      "0\n",
      "0\n",
      "0\n",
      "0\n",
      "0\n",
      "0\n",
      "0\n",
      "0\n"
     ]
    }
   ],
   "source": [
    "from calc import Metropolis_SS_selector as ms\n",
    "\n",
    "counts = np.array([1,1,1,1])\n",
    "fail_counts = np.array([1,0,1,1])\n",
    "curr_idx = 0\n",
    "\n",
    "for _ in range(10):\n",
    "    curr_idx = ms(counts, fail_counts, curr_idx)\n",
    "    print(curr_idx)"
   ]
  },
  {
   "cell_type": "code",
   "execution_count": 7,
   "id": "ae91457a-5f08-48a8-ae05-8bffe2e11903",
   "metadata": {},
   "outputs": [
    {
     "data": {
      "text/plain": [
       "4"
      ]
     },
     "execution_count": 7,
     "metadata": {},
     "output_type": "execute_result"
    }
   ],
   "source": [
    "import circuit_utils as cu\n",
    "\n",
    "cu.n_qubits(ghz)"
   ]
  }
 ],
 "metadata": {
  "kernelspec": {
   "display_name": "Python 3 (ipykernel)",
   "language": "python",
   "name": "python3"
  },
  "language_info": {
   "codemirror_mode": {
    "name": "ipython",
    "version": 3
   },
   "file_extension": ".py",
   "mimetype": "text/x-python",
   "name": "python",
   "nbconvert_exporter": "python",
   "pygments_lexer": "ipython3",
   "version": "3.10.4"
  }
 },
 "nbformat": 4,
 "nbformat_minor": 5
}
